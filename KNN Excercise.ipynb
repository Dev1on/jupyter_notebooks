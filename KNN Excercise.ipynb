{
 "cells": [
  {
   "cell_type": "markdown",
   "metadata": {},
   "source": [
    "_Excercises IBM - Exercise 1 (optional!)_\n",
    "\n",
    "Implement KNN by hand for just 2 dimensions with normalization."
   ]
  },
  {
   "cell_type": "code",
   "execution_count": 699,
   "metadata": {},
   "outputs": [],
   "source": [
    "import pandas as pd\n",
    "import numpy as np\n",
    "import math"
   ]
  },
  {
   "cell_type": "code",
   "execution_count": 700,
   "metadata": {},
   "outputs": [],
   "source": [
    "import ssl\n",
    "ssl._create_default_https_context = ssl._create_unverified_context"
   ]
  },
  {
   "cell_type": "markdown",
   "metadata": {},
   "source": [
    "_Load Dataset_"
   ]
  },
  {
   "cell_type": "code",
   "execution_count": 701,
   "metadata": {},
   "outputs": [
    {
     "data": {
      "text/html": [
       "<div>\n",
       "<style scoped>\n",
       "    .dataframe tbody tr th:only-of-type {\n",
       "        vertical-align: middle;\n",
       "    }\n",
       "\n",
       "    .dataframe tbody tr th {\n",
       "        vertical-align: top;\n",
       "    }\n",
       "\n",
       "    .dataframe thead th {\n",
       "        text-align: right;\n",
       "    }\n",
       "</style>\n",
       "<table border=\"1\" class=\"dataframe\">\n",
       "  <thead>\n",
       "    <tr style=\"text-align: right;\">\n",
       "      <th></th>\n",
       "      <th>Movie Title</th>\n",
       "      <th>Number of Kicks</th>\n",
       "      <th>Number of Kisses</th>\n",
       "      <th>Type of Movie</th>\n",
       "    </tr>\n",
       "  </thead>\n",
       "  <tbody>\n",
       "    <tr>\n",
       "      <th>0</th>\n",
       "      <td>California Man</td>\n",
       "      <td>3</td>\n",
       "      <td>104</td>\n",
       "      <td>Romance</td>\n",
       "    </tr>\n",
       "    <tr>\n",
       "      <th>1</th>\n",
       "      <td>He's not reall into dudes</td>\n",
       "      <td>2</td>\n",
       "      <td>100</td>\n",
       "      <td>Romance</td>\n",
       "    </tr>\n",
       "    <tr>\n",
       "      <th>2</th>\n",
       "      <td>Beautiful Womam</td>\n",
       "      <td>1</td>\n",
       "      <td>81</td>\n",
       "      <td>Romance</td>\n",
       "    </tr>\n",
       "    <tr>\n",
       "      <th>3</th>\n",
       "      <td>Kevin Longblade</td>\n",
       "      <td>101</td>\n",
       "      <td>10</td>\n",
       "      <td>Action</td>\n",
       "    </tr>\n",
       "    <tr>\n",
       "      <th>4</th>\n",
       "      <td>Robo Slayer 3000</td>\n",
       "      <td>99</td>\n",
       "      <td>5</td>\n",
       "      <td>Action</td>\n",
       "    </tr>\n",
       "    <tr>\n",
       "      <th>5</th>\n",
       "      <td>Amped</td>\n",
       "      <td>98</td>\n",
       "      <td>2</td>\n",
       "      <td>Action</td>\n",
       "    </tr>\n",
       "  </tbody>\n",
       "</table>\n",
       "</div>"
      ],
      "text/plain": [
       "                 Movie Title  Number of Kicks  Number of Kisses Type of Movie\n",
       "0             California Man                3               104       Romance\n",
       "1  He's not reall into dudes                2               100       Romance\n",
       "2            Beautiful Womam                1                81       Romance\n",
       "3            Kevin Longblade              101                10        Action\n",
       "4           Robo Slayer 3000               99                 5        Action\n",
       "5                      Amped               98                 2        Action"
      ]
     },
     "metadata": {},
     "output_type": "display_data"
    }
   ],
   "source": [
    "df = pd.read_csv('movies.csv')\n",
    "display(df)"
   ]
  },
  {
   "cell_type": "markdown",
   "metadata": {},
   "source": [
    "_Normalize Data_"
   ]
  },
  {
   "cell_type": "code",
   "execution_count": 702,
   "metadata": {},
   "outputs": [],
   "source": [
    "def normalize_values(original, minValue, maxValue):\n",
    "    return (original - minValue) / (maxValue - minValue)"
   ]
  },
  {
   "cell_type": "code",
   "execution_count": 703,
   "metadata": {},
   "outputs": [],
   "source": [
    "df_norm = df.copy()"
   ]
  },
  {
   "cell_type": "code",
   "execution_count": 704,
   "metadata": {},
   "outputs": [],
   "source": [
    "minimumKicks = df_norm['Number of Kicks'].min()\n",
    "maximumKicks = df_norm['Number of Kicks'].max()\n",
    "df_norm['Number of Kicks'] = normalize_values(df_norm['Number of Kicks'],minimumKicks,maximumKicks)\n",
    "\n",
    "minimumKisses = df_norm['Number of Kisses'].min()\n",
    "maximumKisses = df_norm['Number of Kisses'].max()\n",
    "df_norm['Number of Kisses'] = normalize_values(df_norm['Number of Kisses'],minimumKisses,maximumKisses)\n"
   ]
  },
  {
   "cell_type": "code",
   "execution_count": 705,
   "metadata": {},
   "outputs": [
    {
     "data": {
      "text/html": [
       "<div>\n",
       "<style scoped>\n",
       "    .dataframe tbody tr th:only-of-type {\n",
       "        vertical-align: middle;\n",
       "    }\n",
       "\n",
       "    .dataframe tbody tr th {\n",
       "        vertical-align: top;\n",
       "    }\n",
       "\n",
       "    .dataframe thead th {\n",
       "        text-align: right;\n",
       "    }\n",
       "</style>\n",
       "<table border=\"1\" class=\"dataframe\">\n",
       "  <thead>\n",
       "    <tr style=\"text-align: right;\">\n",
       "      <th></th>\n",
       "      <th>Movie Title</th>\n",
       "      <th>Number of Kicks</th>\n",
       "      <th>Number of Kisses</th>\n",
       "      <th>Type of Movie</th>\n",
       "    </tr>\n",
       "  </thead>\n",
       "  <tbody>\n",
       "    <tr>\n",
       "      <th>0</th>\n",
       "      <td>California Man</td>\n",
       "      <td>0.02</td>\n",
       "      <td>1.000000</td>\n",
       "      <td>Romance</td>\n",
       "    </tr>\n",
       "    <tr>\n",
       "      <th>1</th>\n",
       "      <td>He's not reall into dudes</td>\n",
       "      <td>0.01</td>\n",
       "      <td>0.960784</td>\n",
       "      <td>Romance</td>\n",
       "    </tr>\n",
       "    <tr>\n",
       "      <th>2</th>\n",
       "      <td>Beautiful Womam</td>\n",
       "      <td>0.00</td>\n",
       "      <td>0.774510</td>\n",
       "      <td>Romance</td>\n",
       "    </tr>\n",
       "    <tr>\n",
       "      <th>3</th>\n",
       "      <td>Kevin Longblade</td>\n",
       "      <td>1.00</td>\n",
       "      <td>0.078431</td>\n",
       "      <td>Action</td>\n",
       "    </tr>\n",
       "    <tr>\n",
       "      <th>4</th>\n",
       "      <td>Robo Slayer 3000</td>\n",
       "      <td>0.98</td>\n",
       "      <td>0.029412</td>\n",
       "      <td>Action</td>\n",
       "    </tr>\n",
       "    <tr>\n",
       "      <th>5</th>\n",
       "      <td>Amped</td>\n",
       "      <td>0.97</td>\n",
       "      <td>0.000000</td>\n",
       "      <td>Action</td>\n",
       "    </tr>\n",
       "  </tbody>\n",
       "</table>\n",
       "</div>"
      ],
      "text/plain": [
       "                 Movie Title  Number of Kicks  Number of Kisses Type of Movie\n",
       "0             California Man             0.02          1.000000       Romance\n",
       "1  He's not reall into dudes             0.01          0.960784       Romance\n",
       "2            Beautiful Womam             0.00          0.774510       Romance\n",
       "3            Kevin Longblade             1.00          0.078431        Action\n",
       "4           Robo Slayer 3000             0.98          0.029412        Action\n",
       "5                      Amped             0.97          0.000000        Action"
      ]
     },
     "execution_count": 705,
     "metadata": {},
     "output_type": "execute_result"
    }
   ],
   "source": [
    "df_norm"
   ]
  },
  {
   "cell_type": "markdown",
   "metadata": {},
   "source": [
    "_Euclid distance func_"
   ]
  },
  {
   "cell_type": "code",
   "execution_count": 706,
   "metadata": {},
   "outputs": [],
   "source": [
    "relevant_for_distance = df_norm[['Number of Kicks', 'Number of Kisses']]"
   ]
  },
  {
   "cell_type": "code",
   "execution_count": 707,
   "metadata": {},
   "outputs": [
    {
     "data": {
      "text/html": [
       "<div>\n",
       "<style scoped>\n",
       "    .dataframe tbody tr th:only-of-type {\n",
       "        vertical-align: middle;\n",
       "    }\n",
       "\n",
       "    .dataframe tbody tr th {\n",
       "        vertical-align: top;\n",
       "    }\n",
       "\n",
       "    .dataframe thead th {\n",
       "        text-align: right;\n",
       "    }\n",
       "</style>\n",
       "<table border=\"1\" class=\"dataframe\">\n",
       "  <thead>\n",
       "    <tr style=\"text-align: right;\">\n",
       "      <th></th>\n",
       "      <th>Number of Kicks</th>\n",
       "      <th>Number of Kisses</th>\n",
       "    </tr>\n",
       "  </thead>\n",
       "  <tbody>\n",
       "    <tr>\n",
       "      <th>0</th>\n",
       "      <td>0.02</td>\n",
       "      <td>1.000000</td>\n",
       "    </tr>\n",
       "    <tr>\n",
       "      <th>1</th>\n",
       "      <td>0.01</td>\n",
       "      <td>0.960784</td>\n",
       "    </tr>\n",
       "    <tr>\n",
       "      <th>2</th>\n",
       "      <td>0.00</td>\n",
       "      <td>0.774510</td>\n",
       "    </tr>\n",
       "    <tr>\n",
       "      <th>3</th>\n",
       "      <td>1.00</td>\n",
       "      <td>0.078431</td>\n",
       "    </tr>\n",
       "    <tr>\n",
       "      <th>4</th>\n",
       "      <td>0.98</td>\n",
       "      <td>0.029412</td>\n",
       "    </tr>\n",
       "    <tr>\n",
       "      <th>5</th>\n",
       "      <td>0.97</td>\n",
       "      <td>0.000000</td>\n",
       "    </tr>\n",
       "  </tbody>\n",
       "</table>\n",
       "</div>"
      ],
      "text/plain": [
       "   Number of Kicks  Number of Kisses\n",
       "0             0.02          1.000000\n",
       "1             0.01          0.960784\n",
       "2             0.00          0.774510\n",
       "3             1.00          0.078431\n",
       "4             0.98          0.029412\n",
       "5             0.97          0.000000"
      ]
     },
     "execution_count": 707,
     "metadata": {},
     "output_type": "execute_result"
    }
   ],
   "source": [
    "relevant_for_distance"
   ]
  },
  {
   "cell_type": "code",
   "execution_count": 708,
   "metadata": {},
   "outputs": [],
   "source": [
    "kicks_norm = normalize_values(2,minimumKicks,maximumKicks)\n",
    "kisses_norm = normalize_values(90,minimumKisses,maximumKisses)\n",
    "movie_to_classify = [kicks_norm, kisses_norm]"
   ]
  },
  {
   "cell_type": "code",
   "execution_count": 709,
   "metadata": {},
   "outputs": [],
   "source": [
    "def euclidean_distance(row):\n",
    "    distance = 0\n",
    "    for i in range(2):\n",
    "        distance += (row[i] - movie_to_classify[i]) ** 2 \n",
    "    return math.sqrt(distance)"
   ]
  },
  {
   "cell_type": "code",
   "execution_count": 710,
   "metadata": {},
   "outputs": [],
   "source": [
    "# Calculate and add distances to dataframe\n",
    "distances = []\n",
    "for index, row in relevant_for_distance.iterrows():\n",
    "    distances.append(euclidean_distance(row))\n",
    "df_norm['Distances'] = distances\n",
    "df_norm = df_norm.sort_values(by=['Distances'])"
   ]
  },
  {
   "cell_type": "markdown",
   "metadata": {},
   "source": [
    "_Get k Neighbors_"
   ]
  },
  {
   "cell_type": "code",
   "execution_count": 711,
   "metadata": {},
   "outputs": [],
   "source": [
    "def getKNN(data, k):\n",
    "    neighbors = []\n",
    "    for x in range(k):\n",
    "        neighbors.append(data.iloc[x])\n",
    "    return neighbors"
   ]
  },
  {
   "cell_type": "code",
   "execution_count": 712,
   "metadata": {},
   "outputs": [],
   "source": [
    "neighbors = getKNN(df_norm, 3)"
   ]
  },
  {
   "cell_type": "code",
   "execution_count": 713,
   "metadata": {},
   "outputs": [],
   "source": [
    "def suggestClassification(neighbors):\n",
    "    suggestions = {}\n",
    "    for x in range(len(neighbors)):\n",
    "        print(neighbors[x][3])\n",
    "        movieType = neighbors[x][3]\n",
    "        if movieType in suggestions:\n",
    "            suggestions[movieType] += 1\n",
    "        else:\n",
    "            suggestions[movieType] = 1\n",
    "    # sort depending on occurency\n",
    "    return sorted(suggestions.items(), key=operator.itemgetter(1), reverse=True)[0][0]\n",
    "    print(suggestions)"
   ]
  },
  {
   "cell_type": "code",
   "execution_count": 714,
   "metadata": {},
   "outputs": [
    {
     "name": "stdout",
     "output_type": "stream",
     "text": [
      "Romance\n",
      "Romance\n",
      "Romance\n"
     ]
    },
    {
     "data": {
      "text/plain": [
       "'Romance'"
      ]
     },
     "execution_count": 714,
     "metadata": {},
     "output_type": "execute_result"
    }
   ],
   "source": [
    "suggestClassification(neighbors)"
   ]
  }
 ],
 "metadata": {
  "kernelspec": {
   "display_name": "Python 3",
   "language": "python",
   "name": "python3"
  },
  "language_info": {
   "codemirror_mode": {
    "name": "ipython",
    "version": 3
   },
   "file_extension": ".py",
   "mimetype": "text/x-python",
   "name": "python",
   "nbconvert_exporter": "python",
   "pygments_lexer": "ipython3",
   "version": "3.6.5"
  }
 },
 "nbformat": 4,
 "nbformat_minor": 2
}
