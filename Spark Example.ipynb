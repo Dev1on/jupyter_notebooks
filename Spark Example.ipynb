{
 "cells": [
  {
   "cell_type": "code",
   "execution_count": 27,
   "metadata": {},
   "outputs": [],
   "source": [
    "# use Apache Spark to count words in all works from shakespear\n",
    "# Setup environment with the following:\n",
    "# - spark-2.3.0-bin-hadoop2.7.tgz\n",
    "# - jdk1.8.0_171.jdk\n",
    "# - scala-2.11.12\n",
    "# - sbt-0.13.17.tgz\n",
    "#\n",
    "# Started jupyter notebook with the following command:\n",
    "# 'PYSPARK_DRIVER_PYTHON=\"jupyter\" PYSPARK_DRIVER_PYTHON_OPTS=\"notebook\" pyspark'"
   ]
  },
  {
   "cell_type": "code",
   "execution_count": 28,
   "metadata": {},
   "outputs": [],
   "source": [
    "# import all relevant functions\n",
    "from pyspark.sql.functions import regexp_replace, trim, col, lower, split, explode, desc\n",
    "\n",
    "# helper methods #\n",
    "# Remove all punctuation\n",
    "def removePunctuation(text):\n",
    "    return lower(trim(regexp_replace(regexp_replace(text, '[^\\w\\s]', ''),'_','')))\n",
    "\n",
    "# Count words in the given text\n",
    "def wordCount(text):\n",
    "    return (text.groupBy('word').count())"
   ]
  },
  {
   "cell_type": "code",
   "execution_count": 29,
   "metadata": {},
   "outputs": [
    {
     "name": "stdout",
     "output_type": "stream",
     "text": [
      "+------------------------------------------------------------------+\n",
      "|lower(trim(regexp_replace(regexp_replace(value, [^\\w\\s], ), _, )))|\n",
      "+------------------------------------------------------------------+\n",
      "|1609                                                              |\n",
      "|                                                                  |\n",
      "|the sonnets                                                       |\n",
      "|                                                                  |\n",
      "|by william shakespeare                                            |\n",
      "|                                                                  |\n",
      "|                                                                  |\n",
      "|                                                                  |\n",
      "|1                                                                 |\n",
      "|from fairest creatures we desire increase                         |\n",
      "+------------------------------------------------------------------+\n",
      "only showing top 10 rows\n",
      "\n"
     ]
    }
   ],
   "source": [
    "# Load all shakespear works and remove punctuation\n",
    "shakeSpeare = sqlContext.read.text(\"shakespeare_cleaned.txt\").select(removePunctuation(col('value')))\n",
    "\n",
    "# print only the first ten rows\n",
    "shakeSpeare.show(10, truncate=False)"
   ]
  },
  {
   "cell_type": "code",
   "execution_count": 30,
   "metadata": {},
   "outputs": [
    {
     "name": "stdout",
     "output_type": "stream",
     "text": [
      "+-----------+\n",
      "|       word|\n",
      "+-----------+\n",
      "|       1609|\n",
      "|        the|\n",
      "|    sonnets|\n",
      "|         by|\n",
      "|    william|\n",
      "|shakespeare|\n",
      "|          1|\n",
      "|       from|\n",
      "|    fairest|\n",
      "|  creatures|\n",
      "|         we|\n",
      "|     desire|\n",
      "|   increase|\n",
      "|       that|\n",
      "|    thereby|\n",
      "|    beautys|\n",
      "|       rose|\n",
      "|      might|\n",
      "|      never|\n",
      "|        die|\n",
      "+-----------+\n",
      "only showing top 20 rows\n",
      "\n"
     ]
    }
   ],
   "source": [
    "# Split whole text into single words\n",
    "shakeSpearWords = shakeSpeare.select(explode(split(shakeSpeare[0],\"\\s\")).alias(\"word\")).where('word != \"\"')\n",
    "shakeSpearWords.show()"
   ]
  },
  {
   "cell_type": "code",
   "execution_count": 31,
   "metadata": {},
   "outputs": [
    {
     "name": "stdout",
     "output_type": "stream",
     "text": [
      "882996\n"
     ]
    }
   ],
   "source": [
    "# Count overall words\n",
    "print(shakeSpearWords.count())"
   ]
  },
  {
   "cell_type": "code",
   "execution_count": 32,
   "metadata": {},
   "outputs": [
    {
     "name": "stdout",
     "output_type": "stream",
     "text": [
      "+----+-----+\n",
      "|word|count|\n",
      "+----+-----+\n",
      "| the|27361|\n",
      "| and|26028|\n",
      "|   i|20681|\n",
      "|  to|19150|\n",
      "|  of|17463|\n",
      "|   a|14593|\n",
      "| you|13615|\n",
      "|  my|12480|\n",
      "|  in|10956|\n",
      "|that|10890|\n",
      "|  is| 9134|\n",
      "| not| 8497|\n",
      "|with| 7771|\n",
      "|  me| 7768|\n",
      "|  it| 7678|\n",
      "| for| 7558|\n",
      "| his| 6857|\n",
      "|  be| 6857|\n",
      "|your| 6655|\n",
      "|this| 6602|\n",
      "| but| 6265|\n",
      "|  he| 6251|\n",
      "|have| 5880|\n",
      "|  as| 5733|\n",
      "+----+-----+\n",
      "only showing top 24 rows\n",
      "\n"
     ]
    }
   ],
   "source": [
    "# Calculate top 24 words used and order by count\n",
    "topWordsAndCounts = wordCount(shakeSpearWords).orderBy(desc('count'))\n",
    "topWordsAndCounts.show(24)"
   ]
  }
 ],
 "metadata": {
  "kernelspec": {
   "display_name": "Python 3",
   "language": "python",
   "name": "python3"
  }
 },
 "nbformat": 4,
 "nbformat_minor": 2
}
